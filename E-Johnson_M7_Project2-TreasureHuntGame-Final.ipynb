{
 "cells": [
  {
   "cell_type": "markdown",
   "metadata": {},
   "source": [
    "# Treasure Hunt Game Notebook\n",
    "\n",
    "## Read and Review Your Starter Code\n",
    "The theme of this project is a popular treasure hunt game in which the player needs to find the treasure before the pirate does. While you will not be developing the entire game, you will write the part of the game that represents the intelligent agent, which is a pirate in this case. The pirate will try to find the optimal path to the treasure using deep Q-learning. \n",
    "\n",
    "You have been provided with two Python classes and this notebook to help you with this assignment. The first class, TreasureMaze.py, represents the environment, which includes a maze object defined as a matrix. The second class, GameExperience.py, stores the episodes – that is, all the states that come in between the initial state and the terminal state. This is later used by the agent for learning by experience, called \"exploration\". This notebook shows how to play a game. Your task is to complete the deep Q-learning implementation for which a skeleton implementation has been provided. The code blocks you will need to complete has #TODO as a header.\n",
    "\n",
    "First, read and review the next few code and instruction blocks to understand the code that you have been given."
   ]
  },
  {
   "cell_type": "code",
   "execution_count": 4,
   "metadata": {},
   "outputs": [],
   "source": [
    "from __future__ import print_function\n",
    "import os, sys, time, datetime, json, random\n",
    "import numpy as np\n",
    "from keras.models import Sequential\n",
    "from keras.layers.core import Dense, Activation\n",
    "from keras.optimizers import SGD , Adam, RMSprop\n",
    "from keras.layers.advanced_activations import PReLU\n",
    "import matplotlib.pyplot as plt\n",
    "from TreasureMaze import TreasureMaze\n",
    "from GameExperience import GameExperience\n",
    "%matplotlib inline"
   ]
  },
  {
   "cell_type": "markdown",
   "metadata": {},
   "source": [
    "The following code block contains an 8x8 matrix that will be used as a maze object:"
   ]
  },
  {
   "cell_type": "code",
   "execution_count": 5,
   "metadata": {},
   "outputs": [],
   "source": [
    "maze = np.array([\n",
    "    [ 1.,  0.,  1.,  1.,  1.,  1.,  1.,  1.],\n",
    "    [ 1.,  0.,  1.,  1.,  1.,  0.,  1.,  1.],\n",
    "    [ 1.,  1.,  1.,  1.,  0.,  1.,  0.,  1.],\n",
    "    [ 1.,  1.,  1.,  0.,  1.,  1.,  1.,  1.],\n",
    "    [ 1.,  1.,  0.,  1.,  1.,  1.,  1.,  1.],\n",
    "    [ 1.,  1.,  1.,  0.,  1.,  0.,  0.,  0.],\n",
    "    [ 1.,  1.,  1.,  0.,  1.,  1.,  1.,  1.],\n",
    "    [ 1.,  1.,  1.,  1.,  0.,  1.,  1.,  1.]\n",
    "])"
   ]
  },
  {
   "cell_type": "markdown",
   "metadata": {},
   "source": [
    "This helper function allows a visual representation of the maze object:"
   ]
  },
  {
   "cell_type": "code",
   "execution_count": 6,
   "metadata": {},
   "outputs": [],
   "source": [
    "def show(qmaze):\n",
    "    plt.grid('on')\n",
    "    nrows, ncols = qmaze.maze.shape\n",
    "    ax = plt.gca()\n",
    "    ax.set_xticks(np.arange(0.5, nrows, 1))\n",
    "    ax.set_yticks(np.arange(0.5, ncols, 1))\n",
    "    ax.set_xticklabels([])\n",
    "    ax.set_yticklabels([])\n",
    "    canvas = np.copy(qmaze.maze)\n",
    "    for row,col in qmaze.visited:\n",
    "        canvas[row,col] = 0.6\n",
    "    pirate_row, pirate_col, _ = qmaze.state\n",
    "    canvas[pirate_row, pirate_col] = 0.3   # pirate cell\n",
    "    canvas[nrows-1, ncols-1] = 0.9 # treasure cell\n",
    "    img = plt.imshow(canvas, interpolation='none', cmap='gray')\n",
    "    return img"
   ]
  },
  {
   "cell_type": "markdown",
   "metadata": {},
   "source": [
    "The pirate agent can move in four directions: left, right, up, and down. \n",
    "\n",
    "While the agent primarily learns by experience through exploitation, often, the agent can choose to explore the environment to find previously undiscovered paths. This is called \"exploration\" and is defined by epsilon. This value is typically a lower value such as 0.1, which means for every ten attempts, the agent will attempt to learn by experience nine times and will randomly explore a new path one time. You are encouraged to try various values for the exploration factor and see how the algorithm performs."
   ]
  },
  {
   "cell_type": "code",
   "execution_count": 7,
   "metadata": {},
   "outputs": [],
   "source": [
    "LEFT = 0\n",
    "UP = 1\n",
    "RIGHT = 2\n",
    "DOWN = 3\n",
    "\n",
    "\n",
    "# Exploration factor\n",
    "epsilon = 0.1\n",
    "\n",
    "# Actions dictionary\n",
    "actions_dict = {\n",
    "    LEFT: 'left',\n",
    "    UP: 'up',\n",
    "    RIGHT: 'right',\n",
    "    DOWN: 'down',\n",
    "}\n",
    "\n",
    "num_actions = len(actions_dict)\n"
   ]
  },
  {
   "cell_type": "markdown",
   "metadata": {},
   "source": [
    "The sample code block and output below show creating a maze object and performing one action (DOWN), which returns the reward. The resulting updated environment is visualized."
   ]
  },
  {
   "cell_type": "code",
   "execution_count": 8,
   "metadata": {},
   "outputs": [
    {
     "name": "stdout",
     "output_type": "stream",
     "text": [
      "reward= -0.04\n"
     ]
    },
    {
     "data": {
      "text/plain": [
       "<matplotlib.image.AxesImage at 0x1777c506188>"
      ]
     },
     "execution_count": 8,
     "metadata": {},
     "output_type": "execute_result"
    },
    {
     "data": {
      "image/png": "[encoded data removed]",
      "text/plain": [
       "<Figure size 432x288 with 1 Axes>"
      ]
     },
     "metadata": {
      "needs_background": "light"
     },
     "output_type": "display_data"
    }
   ],
   "source": [
    "qmaze = TreasureMaze(maze)\n",
    "canvas, reward, game_over = qmaze.act(DOWN)\n",
    "print(\"reward=\", reward)\n",
    "show(qmaze)"
   ]
  },
  {
   "cell_type": "markdown",
   "metadata": {},
   "source": [
    "This function simulates a full game based on the provided trained model. The other parameters include the TreasureMaze object and the starting position of the pirate."
   ]
  },
  {
   "cell_type": "code",
   "execution_count": 9,
   "metadata": {},
   "outputs": [],
   "source": [
    "def play_game(model, qmaze, pirate_cell):\n",
    "    qmaze.reset(pirate_cell)\n",
    "    envstate = qmaze.observe()\n",
    "    while True:\n",
    "        prev_envstate = envstate\n",
    "        # get next action\n",
    "        q = model.predict(prev_envstate)\n",
    "        action = np.argmax(q[0])\n",
    "\n",
    "        # apply action, get rewards and new state\n",
    "        envstate, reward, game_status = qmaze.act(action)\n",
    "        if game_status == 'win':\n",
    "            return True\n",
    "        elif game_status == 'lose':\n",
    "            return False"
   ]
  },
  {
   "cell_type": "markdown",
   "metadata": {},
   "source": [
    "This function helps you to determine whether the pirate can win any game at all. If your maze is not well designed, the pirate may not win any game at all. In this case, your training would not yield any result. The provided maze in this notebook ensures that there is a path to win and you can run this method to check."
   ]
  },
  {
   "cell_type": "code",
   "execution_count": 10,
   "metadata": {},
   "outputs": [],
   "source": [
    "def completion_check(model, qmaze):\n",
    "    for cell in qmaze.free_cells:\n",
    "        if not qmaze.valid_actions(cell):\n",
    "            return False\n",
    "        if not play_game(model, qmaze, cell):\n",
    "            return False\n",
    "    return True"
   ]
  },
  {
   "cell_type": "markdown",
   "metadata": {},
   "source": [
    "The code you have been given in this block will build the neural network model. Review the code and note the number of layers, as well as the activation, optimizer, and loss functions that are used to train the model."
   ]
  },
  {
   "cell_type": "code",
   "execution_count": 11,
   "metadata": {},
   "outputs": [],
   "source": [
    "def build_model(maze):\n",
    "    model = Sequential()\n",
    "    model.add(Dense(maze.size, input_shape=(maze.size,)))\n",
    "    model.add(PReLU())\n",
    "    model.add(Dense(maze.size))\n",
    "    model.add(PReLU())\n",
    "    model.add(Dense(num_actions))\n",
    "    model.compile(optimizer='adam', loss='mse')\n",
    "    return model"
   ]
  },
  {
   "cell_type": "markdown",
   "metadata": {},
   "source": [
    "# #TODO: Complete the Q-Training Algorithm Code Block\n",
    "\n",
    "This is your deep Q-learning implementation. The goal of your deep Q-learning implementation is to find the best possible navigation sequence that results in reaching the treasure cell while maximizing the reward. In your implementation, you need to determine the optimal number of epochs to achieve a 100% win rate.\n",
    "\n",
    "You will need to complete the section starting with #pseudocode. The pseudocode has been included for you."
   ]
  },
  {
   "cell_type": "code",
   "execution_count": 12,
   "metadata": {},
   "outputs": [],
   "source": [
    "def qtrain(model, maze, **opt):\n",
    "\n",
    "    # exploration factor\n",
    "    global epsilon \n",
    "\n",
    "    # number of epochs\n",
    "    n_epoch = opt.get('n_epoch', 15000)\n",
    "\n",
    "    # maximum memory to store episodes\n",
    "    max_memory = opt.get('max_memory', 1000)\n",
    "\n",
    "    # maximum data size for training\n",
    "    data_size = opt.get('data_size', 50)\n",
    "\n",
    "    # start time\n",
    "    start_time = datetime.datetime.now()\n",
    "\n",
    "    # Construct environment/game from numpy array: maze (see above)\n",
    "    qmaze = TreasureMaze(maze)\n",
    "\n",
    "    # initializing circular memory buffer\n",
    "    cir_buffer = []\n",
    "    # position to insert next memory / experience\n",
    "    buffer_index = 0\n",
    "\n",
    "    # Initialize experience replay object\n",
    "    experience = GameExperience(model, max_memory=max_memory)\n",
    "    \n",
    "    win_history = []   # history of win/lose game\n",
    "    hsize = qmaze.maze.size//2   # history window size\n",
    "    win_rate = 0.0\n",
    "\n",
    "    for epoch in range(n_epoch):\n",
    "\n",
    "        # select random choice from the qmaze's available free cells\n",
    "        agent_cell = random.choice(qmaze.free_cells)\n",
    "        # reset pirate position using the selected random cell\n",
    "        qmaze.reset(agent_cell)\n",
    "\n",
    "        # set the current_state of environment\n",
    "        envstate = qmaze.observe()\n",
    "\n",
    "        # get current_status\n",
    "        # current_status = qmaze.game_status()\n",
    "\n",
    "        # Reset to 0 before new epoch\n",
    "        episode_count= 0\n",
    "        \n",
    "        # Reset to 0 before new epoch\n",
    "        loss = 0\n",
    "\n",
    "        # control variable for our inner loop\n",
    "        game_ended = False\n",
    "        \n",
    "        while not game_ended:\n",
    "\n",
    "            # prepare for new envstate\n",
    "            prev_envstate = envstate\n",
    "            # list of possible actions\n",
    "            poss_actions = qmaze.valid_actions()\n",
    "            # if rand value less than epsilon\n",
    "            if np.random.rand() < epsilon:\n",
    "                # set next action equal to random value from possible_actions\n",
    "                action = np.random.choice(poss_actions)\n",
    "            # else get next action\n",
    "            else:\n",
    "                q = model.predict(prev_envstate)\n",
    "                # filter and select next action from possible actions\n",
    "                action = np.argmax(q[0])\n",
    "\n",
    "            # apply next action, get rewards and new state\n",
    "            envstate, reward, game_status = qmaze.act(action)\n",
    "\n",
    "            # if the result of this game is win\n",
    "            if game_status == 'win':\n",
    "                # append 1 for win to the win_history\n",
    "                win_history.append(1)\n",
    "                game_ended = True\n",
    "\n",
    "            # if the result of this game is loss\n",
    "            elif game_status == 'lose':\n",
    "                # append 0 for loss to the win_history\n",
    "                win_history.append(0)\n",
    "                game_ended = True\n",
    "                \n",
    "            # if game_status other than win or lose\n",
    "            else:\n",
    "                # keep the value as false / game not finished\n",
    "                game_ended = False\n",
    "\n",
    "\n",
    "            #create episode memory for current action / state\n",
    "            episode = [prev_envstate, action, reward, envstate, game_ended]\n",
    "\n",
    "\n",
    "            if len(cir_buffer) < max_memory:\n",
    "                cir_buffer.append(episode)\n",
    "            else:\n",
    "                cir_buffer[buffer_index] = episode\n",
    "            # increment the buffer index value to next position (modulus to prevent out of bounds error)\n",
    "            buffer_index = (buffer_index + 1) % max_memory\n",
    "\n",
    "\n",
    "\n",
    "                \n",
    "             # increment the count of episodes for this epoch\n",
    "            episode_count += 1\n",
    "\n",
    "\n",
    "            if len(cir_buffer) >= data_size:\n",
    "                # assign / store the memory to GameExperience\n",
    "                experience.remember(episode)\n",
    "                # retrieve data from game experience for input and target\n",
    "                inputs, targets = experience.get_data()\n",
    "\n",
    "                # use model fit to train the model https://www.tensorflow.org/api_docs/python/tf/keras/Model#fit\n",
    "                model.fit(inputs, targets, epochs=24, batch_size=12, verbose=0)\n",
    "    \n",
    "                # call model evaluate to determine the loss, verbose 0 to stop spam printing\n",
    "                loss = model.evaluate(inputs, targets, verbose = 0)\n",
    "     \n",
    "        # calculate the win rate after an epoch      \n",
    "        win_rate = sum(win_history) / len(win_history)\n",
    "            \n",
    "\n",
    "\n",
    "    #Print the epoch, loss, episodes, win count, and win rate for each epoch\n",
    "        dt = datetime.datetime.now() - start_time\n",
    "        t = format_time(dt.total_seconds())\n",
    "        template = \"Epoch: {:03d}/{:d} | Loss: {:.4f} | Episodes: {:d} | Win count: {:d} | Win rate: {:.3f} | time: {}\"\n",
    "        print(template.format(epoch, n_epoch-1, loss, episode_count, sum(win_history), win_rate, t))\n",
    "        # We simply check if training has exhausted all free cells and if in all\n",
    "        # cases the agent won.\n",
    "        if win_rate > 0.9 : epsilon = 0.05\n",
    "        if sum(win_history[-hsize:]) == hsize and completion_check(model, qmaze):\n",
    "            print(\"Reached 100%% win rate at epoch: %d\" % (epoch,))\n",
    "            break\n",
    "    \n",
    "    \n",
    "    # Determine the total time for training\n",
    "    dt = datetime.datetime.now() - start_time\n",
    "    seconds = dt.total_seconds()\n",
    "    t = format_time(seconds)\n",
    "\n",
    "    print(\"n_epoch: %d, max_mem: %d, data: %d, time: %s\" % (epoch, max_memory, data_size, t))\n",
    "    return seconds\n",
    "\n",
    "# This is a small utility for printing readable time strings:\n",
    "def format_time(seconds):\n",
    "    if seconds < 400:\n",
    "        s = float(seconds)\n",
    "        return \"%.1f seconds\" % (s,)\n",
    "    elif seconds < 4000:\n",
    "        m = seconds / 60.0\n",
    "        return \"%.2f minutes\" % (m,)\n",
    "    else:\n",
    "        h = seconds / 3600.0\n",
    "        return \"%.2f hours\" % (h,)\n",
    "\n",
    "\n"
   ]
  },
  {
   "cell_type": "markdown",
   "metadata": {},
   "source": [
    "## Test Your Model\n",
    "\n",
    "Now we will start testing the deep Q-learning implementation. To begin, select **Cell**, then **Run All** from the menu bar. This will run your notebook. As it runs, you should see output begin to appear beneath the next few cells. The code below creates an instance of TreasureMaze."
   ]
  },
  {
   "cell_type": "code",
   "execution_count": 13,
   "metadata": {},
   "outputs": [
    {
     "data": {
      "text/plain": [
       "<matplotlib.image.AxesImage at 0x1777c5cc548>"
      ]
     },
     "execution_count": 13,
     "metadata": {},
     "output_type": "execute_result"
    },
    {
     "data": {
      "image/png": "[encoded data removed]",
      "text/plain": [
       "<Figure size 432x288 with 1 Axes>"
      ]
     },
     "metadata": {
      "needs_background": "light"
     },
     "output_type": "display_data"
    }
   ],
   "source": [
    "qmaze = TreasureMaze(maze)\n",
    "show(qmaze)"
   ]
  },
  {
   "cell_type": "markdown",
   "metadata": {},
   "source": [
    "In the next code block, you will build your model and train it using deep Q-learning. Note: This step takes several minutes to fully run."
   ]
  },
  {
   "cell_type": "code",
   "execution_count": 14,
   "metadata": {},
   "outputs": [
    {
     "name": "stdout",
     "output_type": "stream",
     "text": [
      "Epoch: 000/14999 | Loss: 0.0012 | Episodes: 153 | Win count: 0 | Win rate: 0.000 | time: 9.3 seconds\n",
      "Epoch: 001/14999 | Loss: 0.0082 | Episodes: 137 | Win count: 0 | Win rate: 0.000 | time: 17.7 seconds\n",
      "Epoch: 002/14999 | Loss: 0.0023 | Episodes: 146 | Win count: 0 | Win rate: 0.000 | time: 27.4 seconds\n",
      "Epoch: 003/14999 | Loss: 0.0011 | Episodes: 143 | Win count: 0 | Win rate: 0.000 | time: 37.2 seconds\n",
      "Epoch: 004/14999 | Loss: 0.0025 | Episodes: 156 | Win count: 0 | Win rate: 0.000 | time: 48.6 seconds\n",
      "Epoch: 005/14999 | Loss: 0.0026 | Episodes: 137 | Win count: 0 | Win rate: 0.000 | time: 59.5 seconds\n",
      "Epoch: 006/14999 | Loss: 0.0016 | Episodes: 135 | Win count: 0 | Win rate: 0.000 | time: 69.3 seconds\n",
      "Epoch: 007/14999 | Loss: 0.0009 | Episodes: 143 | Win count: 0 | Win rate: 0.000 | time: 79.8 seconds\n",
      "Epoch: 008/14999 | Loss: 0.0522 | Episodes: 146 | Win count: 0 | Win rate: 0.000 | time: 90.6 seconds\n",
      "Epoch: 009/14999 | Loss: 0.0027 | Episodes: 139 | Win count: 0 | Win rate: 0.000 | time: 100.8 seconds\n",
      "Epoch: 010/14999 | Loss: 0.0003 | Episodes: 132 | Win count: 0 | Win rate: 0.000 | time: 110.8 seconds\n",
      "Epoch: 011/14999 | Loss: 0.0001 | Episodes: 136 | Win count: 0 | Win rate: 0.000 | time: 121.3 seconds\n",
      "Epoch: 012/14999 | Loss: 0.0010 | Episodes: 120 | Win count: 1 | Win rate: 0.077 | time: 130.1 seconds\n",
      "Epoch: 013/14999 | Loss: 0.0003 | Episodes: 3 | Win count: 2 | Win rate: 0.143 | time: 130.3 seconds\n",
      "Epoch: 014/14999 | Loss: 0.0010 | Episodes: 140 | Win count: 2 | Win rate: 0.133 | time: 141.5 seconds\n",
      "Epoch: 015/14999 | Loss: 0.0013 | Episodes: 4 | Win count: 3 | Win rate: 0.188 | time: 141.8 seconds\n",
      "Epoch: 016/14999 | Loss: 0.0004 | Episodes: 83 | Win count: 4 | Win rate: 0.235 | time: 148.0 seconds\n",
      "Epoch: 017/14999 | Loss: 0.0136 | Episodes: 41 | Win count: 5 | Win rate: 0.278 | time: 151.4 seconds\n",
      "Epoch: 018/14999 | Loss: 0.0022 | Episodes: 17 | Win count: 6 | Win rate: 0.316 | time: 152.8 seconds\n",
      "Epoch: 019/14999 | Loss: 0.0051 | Episodes: 143 | Win count: 6 | Win rate: 0.300 | time: 163.5 seconds\n",
      "Epoch: 020/14999 | Loss: 0.0015 | Episodes: 98 | Win count: 7 | Win rate: 0.333 | time: 170.6 seconds\n",
      "Epoch: 021/14999 | Loss: 0.0031 | Episodes: 54 | Win count: 8 | Win rate: 0.364 | time: 174.8 seconds\n",
      "Epoch: 022/14999 | Loss: 0.0009 | Episodes: 36 | Win count: 9 | Win rate: 0.391 | time: 177.4 seconds\n",
      "Epoch: 023/14999 | Loss: 0.0031 | Episodes: 56 | Win count: 10 | Win rate: 0.417 | time: 181.4 seconds\n",
      "Epoch: 024/14999 | Loss: 0.0023 | Episodes: 11 | Win count: 11 | Win rate: 0.440 | time: 182.3 seconds\n",
      "Epoch: 025/14999 | Loss: 0.0003 | Episodes: 138 | Win count: 11 | Win rate: 0.423 | time: 193.1 seconds\n",
      "Epoch: 026/14999 | Loss: 0.0005 | Episodes: 9 | Win count: 12 | Win rate: 0.444 | time: 193.8 seconds\n",
      "Epoch: 027/14999 | Loss: 0.0002 | Episodes: 31 | Win count: 13 | Win rate: 0.464 | time: 196.1 seconds\n",
      "Epoch: 028/14999 | Loss: 0.0241 | Episodes: 61 | Win count: 14 | Win rate: 0.483 | time: 200.8 seconds\n",
      "Epoch: 029/14999 | Loss: 0.0020 | Episodes: 9 | Win count: 15 | Win rate: 0.500 | time: 201.5 seconds\n",
      "Epoch: 030/14999 | Loss: 0.0009 | Episodes: 11 | Win count: 16 | Win rate: 0.516 | time: 202.3 seconds\n",
      "Epoch: 031/14999 | Loss: 0.0004 | Episodes: 2 | Win count: 17 | Win rate: 0.531 | time: 202.5 seconds\n",
      "Epoch: 032/14999 | Loss: 0.0024 | Episodes: 18 | Win count: 18 | Win rate: 0.545 | time: 203.9 seconds\n",
      "Epoch: 033/14999 | Loss: 0.0024 | Episodes: 15 | Win count: 19 | Win rate: 0.559 | time: 205.0 seconds\n",
      "Epoch: 034/14999 | Loss: 0.0004 | Episodes: 3 | Win count: 20 | Win rate: 0.571 | time: 205.2 seconds\n",
      "Epoch: 035/14999 | Loss: 0.0011 | Episodes: 24 | Win count: 21 | Win rate: 0.583 | time: 206.9 seconds\n",
      "Epoch: 036/14999 | Loss: 0.0011 | Episodes: 11 | Win count: 22 | Win rate: 0.595 | time: 207.7 seconds\n",
      "Epoch: 037/14999 | Loss: 0.0024 | Episodes: 7 | Win count: 23 | Win rate: 0.605 | time: 208.2 seconds\n",
      "Epoch: 038/14999 | Loss: 0.0007 | Episodes: 15 | Win count: 24 | Win rate: 0.615 | time: 209.3 seconds\n",
      "Epoch: 039/14999 | Loss: 0.0009 | Episodes: 27 | Win count: 25 | Win rate: 0.625 | time: 211.2 seconds\n",
      "Epoch: 040/14999 | Loss: 0.0010 | Episodes: 35 | Win count: 26 | Win rate: 0.634 | time: 213.7 seconds\n",
      "Epoch: 041/14999 | Loss: 0.0007 | Episodes: 76 | Win count: 27 | Win rate: 0.643 | time: 219.1 seconds\n",
      "Epoch: 042/14999 | Loss: 0.0001 | Episodes: 28 | Win count: 28 | Win rate: 0.651 | time: 221.2 seconds\n",
      "Epoch: 043/14999 | Loss: 0.0001 | Episodes: 29 | Win count: 29 | Win rate: 0.659 | time: 223.3 seconds\n",
      "Epoch: 044/14999 | Loss: 0.0004 | Episodes: 34 | Win count: 30 | Win rate: 0.667 | time: 225.7 seconds\n",
      "Epoch: 045/14999 | Loss: 0.0003 | Episodes: 17 | Win count: 31 | Win rate: 0.674 | time: 226.9 seconds\n",
      "Epoch: 046/14999 | Loss: 0.0002 | Episodes: 24 | Win count: 32 | Win rate: 0.681 | time: 228.7 seconds\n",
      "Epoch: 047/14999 | Loss: 0.0009 | Episodes: 8 | Win count: 33 | Win rate: 0.688 | time: 229.3 seconds\n",
      "Epoch: 048/14999 | Loss: 0.0002 | Episodes: 17 | Win count: 34 | Win rate: 0.694 | time: 230.5 seconds\n",
      "Epoch: 049/14999 | Loss: 0.0001 | Episodes: 19 | Win count: 35 | Win rate: 0.700 | time: 231.9 seconds\n",
      "Epoch: 050/14999 | Loss: 0.0003 | Episodes: 21 | Win count: 36 | Win rate: 0.706 | time: 233.4 seconds\n",
      "Epoch: 051/14999 | Loss: 0.0002 | Episodes: 29 | Win count: 37 | Win rate: 0.712 | time: 235.4 seconds\n",
      "Epoch: 052/14999 | Loss: 0.0004 | Episodes: 24 | Win count: 38 | Win rate: 0.717 | time: 237.0 seconds\n",
      "Epoch: 053/14999 | Loss: 0.0007 | Episodes: 7 | Win count: 39 | Win rate: 0.722 | time: 237.5 seconds\n",
      "Epoch: 054/14999 | Loss: 0.0000 | Episodes: 8 | Win count: 40 | Win rate: 0.727 | time: 238.0 seconds\n",
      "Epoch: 055/14999 | Loss: 0.0002 | Episodes: 7 | Win count: 41 | Win rate: 0.732 | time: 238.5 seconds\n",
      "Epoch: 056/14999 | Loss: 0.0009 | Episodes: 40 | Win count: 42 | Win rate: 0.737 | time: 241.5 seconds\n",
      "Epoch: 057/14999 | Loss: 0.0003 | Episodes: 9 | Win count: 43 | Win rate: 0.741 | time: 242.2 seconds\n",
      "Epoch: 058/14999 | Loss: 0.0003 | Episodes: 20 | Win count: 44 | Win rate: 0.746 | time: 243.8 seconds\n",
      "Epoch: 059/14999 | Loss: 0.0002 | Episodes: 10 | Win count: 45 | Win rate: 0.750 | time: 244.6 seconds\n",
      "Epoch: 060/14999 | Loss: 0.0001 | Episodes: 35 | Win count: 46 | Win rate: 0.754 | time: 247.4 seconds\n",
      "Epoch: 061/14999 | Loss: 0.0008 | Episodes: 29 | Win count: 47 | Win rate: 0.758 | time: 249.6 seconds\n",
      "Epoch: 062/14999 | Loss: 0.0006 | Episodes: 11 | Win count: 48 | Win rate: 0.762 | time: 250.5 seconds\n",
      "Epoch: 063/14999 | Loss: 0.0011 | Episodes: 63 | Win count: 49 | Win rate: 0.766 | time: 255.2 seconds\n",
      "Epoch: 064/14999 | Loss: 0.0028 | Episodes: 21 | Win count: 50 | Win rate: 0.769 | time: 257.1 seconds\n",
      "Epoch: 065/14999 | Loss: 0.0003 | Episodes: 46 | Win count: 51 | Win rate: 0.773 | time: 260.6 seconds\n",
      "Epoch: 066/14999 | Loss: 0.0002 | Episodes: 7 | Win count: 52 | Win rate: 0.776 | time: 261.3 seconds\n",
      "Epoch: 067/14999 | Loss: 0.0002 | Episodes: 33 | Win count: 53 | Win rate: 0.779 | time: 264.0 seconds\n",
      "Epoch: 068/14999 | Loss: 0.0002 | Episodes: 9 | Win count: 54 | Win rate: 0.783 | time: 264.9 seconds\n",
      "Epoch: 069/14999 | Loss: 0.0009 | Episodes: 17 | Win count: 55 | Win rate: 0.786 | time: 266.5 seconds\n",
      "Epoch: 070/14999 | Loss: 0.0003 | Episodes: 17 | Win count: 56 | Win rate: 0.789 | time: 268.0 seconds\n",
      "Epoch: 071/14999 | Loss: 0.0009 | Episodes: 15 | Win count: 57 | Win rate: 0.792 | time: 269.4 seconds\n",
      "Epoch: 072/14999 | Loss: 0.0003 | Episodes: 32 | Win count: 58 | Win rate: 0.795 | time: 272.0 seconds\n",
      "Epoch: 073/14999 | Loss: 0.0009 | Episodes: 52 | Win count: 59 | Win rate: 0.797 | time: 276.1 seconds\n",
      "Epoch: 074/14999 | Loss: 0.0005 | Episodes: 21 | Win count: 60 | Win rate: 0.800 | time: 277.7 seconds\n",
      "Epoch: 075/14999 | Loss: 0.0001 | Episodes: 6 | Win count: 61 | Win rate: 0.803 | time: 278.2 seconds\n",
      "Epoch: 076/14999 | Loss: 0.0000 | Episodes: 30 | Win count: 62 | Win rate: 0.805 | time: 280.7 seconds\n",
      "Epoch: 077/14999 | Loss: 0.0003 | Episodes: 46 | Win count: 63 | Win rate: 0.808 | time: 284.6 seconds\n",
      "Epoch: 078/14999 | Loss: 0.0006 | Episodes: 2 | Win count: 64 | Win rate: 0.810 | time: 284.9 seconds\n",
      "Epoch: 079/14999 | Loss: 0.0033 | Episodes: 2 | Win count: 65 | Win rate: 0.812 | time: 285.2 seconds\n"
     ]
    },
    {
     "name": "stdout",
     "output_type": "stream",
     "text": [
      "Epoch: 080/14999 | Loss: 0.0003 | Episodes: 26 | Win count: 66 | Win rate: 0.815 | time: 287.2 seconds\n",
      "Epoch: 081/14999 | Loss: 0.0005 | Episodes: 32 | Win count: 67 | Win rate: 0.817 | time: 290.1 seconds\n",
      "Epoch: 082/14999 | Loss: 0.0005 | Episodes: 7 | Win count: 68 | Win rate: 0.819 | time: 290.7 seconds\n",
      "Epoch: 083/14999 | Loss: 0.0007 | Episodes: 15 | Win count: 69 | Win rate: 0.821 | time: 291.9 seconds\n",
      "Epoch: 084/14999 | Loss: 0.0001 | Episodes: 16 | Win count: 70 | Win rate: 0.824 | time: 293.2 seconds\n",
      "Epoch: 085/14999 | Loss: 0.0005 | Episodes: 60 | Win count: 71 | Win rate: 0.826 | time: 298.3 seconds\n",
      "Epoch: 086/14999 | Loss: 0.0002 | Episodes: 13 | Win count: 72 | Win rate: 0.828 | time: 299.5 seconds\n",
      "Epoch: 087/14999 | Loss: 0.0013 | Episodes: 22 | Win count: 73 | Win rate: 0.830 | time: 301.4 seconds\n",
      "Epoch: 088/14999 | Loss: 0.0008 | Episodes: 2 | Win count: 74 | Win rate: 0.831 | time: 301.7 seconds\n",
      "Epoch: 089/14999 | Loss: 0.0003 | Episodes: 8 | Win count: 75 | Win rate: 0.833 | time: 302.4 seconds\n",
      "Epoch: 090/14999 | Loss: 0.0003 | Episodes: 25 | Win count: 76 | Win rate: 0.835 | time: 304.4 seconds\n",
      "Epoch: 091/14999 | Loss: 0.0003 | Episodes: 3 | Win count: 77 | Win rate: 0.837 | time: 304.7 seconds\n",
      "Epoch: 092/14999 | Loss: 0.0004 | Episodes: 28 | Win count: 78 | Win rate: 0.839 | time: 307.1 seconds\n",
      "Epoch: 093/14999 | Loss: 0.0001 | Episodes: 28 | Win count: 79 | Win rate: 0.840 | time: 309.6 seconds\n",
      "Epoch: 094/14999 | Loss: 0.0000 | Episodes: 28 | Win count: 80 | Win rate: 0.842 | time: 312.0 seconds\n",
      "Epoch: 095/14999 | Loss: 0.0007 | Episodes: 65 | Win count: 81 | Win rate: 0.844 | time: 317.1 seconds\n",
      "Reached 100% win rate at epoch: 95\n",
      "n_epoch: 95, max_mem: 512, data: 32, time: 317.8 seconds\n"
     ]
    },
    {
     "data": {
      "text/plain": [
       "317.819749"
      ]
     },
     "execution_count": 14,
     "metadata": {},
     "output_type": "execute_result"
    }
   ],
   "source": [
    "model = build_model(maze)\n",
    "qtrain(model, maze, epochs=1000, max_memory=8*maze.size, data_size=32)"
   ]
  },
  {
   "cell_type": "markdown",
   "metadata": {},
   "source": [
    "This cell will check to see if the model passes the completion check. Note: This could take several minutes."
   ]
  },
  {
   "cell_type": "code",
   "execution_count": 15,
   "metadata": {},
   "outputs": [
    {
     "data": {
      "text/plain": [
       "<matplotlib.image.AxesImage at 0x1777c5771c8>"
      ]
     },
     "execution_count": 15,
     "metadata": {},
     "output_type": "execute_result"
    },
    {
     "data": {
      "image/png": "[encoded data removed]",
      "text/plain": [
       "<Figure size 432x288 with 1 Axes>"
      ]
     },
     "metadata": {
      "needs_background": "light"
     },
     "output_type": "display_data"
    }
   ],
   "source": [
    "completion_check(model, qmaze)\n",
    "show(qmaze)"
   ]
  },
  {
   "cell_type": "markdown",
   "metadata": {},
   "source": [
    "This cell will test your model for one game. It will start the pirate at the top-left corner and run play_game. The agent should find a path from the starting position to the target (treasure). The treasure is located in the bottom-right corner."
   ]
  },
  {
   "cell_type": "code",
   "execution_count": 16,
   "metadata": {},
   "outputs": [
    {
     "data": {
      "text/plain": [
       "<matplotlib.image.AxesImage at 0x17701cee648>"
      ]
     },
     "execution_count": 16,
     "metadata": {},
     "output_type": "execute_result"
    },
    {
     "data": {
      "image/png": "[encoded data removed]",
      "text/plain": [
       "<Figure size 432x288 with 1 Axes>"
      ]
     },
     "metadata": {
      "needs_background": "light"
     },
     "output_type": "display_data"
    }
   ],
   "source": [
    "pirate_start = (0, 0)\n",
    "play_game(model, qmaze, pirate_start)\n",
    "show(qmaze)"
   ]
  },
  {
   "cell_type": "markdown",
   "metadata": {},
   "source": [
    "## Save and Submit Your Work\n",
    "After you have finished creating the code for your notebook, save your work. Make sure that your notebook contains your name in the filename (e.g. Doe_Jane_ProjectTwo.ipynb). This will help your instructor access and grade your work easily. Download a copy of your IPYNB file and submit it to Brightspace. Refer to the Jupyter Notebook in Apporto Tutorial if you need help with these tasks."
   ]
  },
  {
   "cell_type": "markdown",
   "metadata": {},
   "source": [
    "\n",
    "Run 1: \n",
    "\n",
    "history = model.fit(inputs, targets, epochs=8, batch_size=24, verbose=0)\n",
    "\n",
    "Win Rate > Epsilon. Completion = True. Epoch has concluded.\n",
    "Epoch: 227/14999 | Loss: 0.0011 | Episodes: 8 | Win count: 208 | Win rate: 0.912 | time: 9.68 minutes\n",
    "Reached 100% win rate at epoch: 227\n",
    "n_epoch: 227, max_mem: 512, data: 32, time: 9.70 minutes\n",
    "\n",
    "\n",
    "Run 2:\n",
    "\n",
    "history = model.fit(inputs, targets, epochs=16, batch_size=12, verbose=0)\n",
    "\n",
    "Epoch: 100/14999 | Loss: 0.0001 | Episodes: 7 | Win count: 75 | Win rate: 0.743 | time: 305.7 seconds\n",
    "Reached 100% win rate at epoch: 100\n",
    "n_epoch: 100, max_mem: 512, data: 32, time: 306.4 seconds\n",
    "\n",
    "\n",
    "Run 3:\n",
    "\n",
    "history = model.fit(inputs, targets, epochs=24, batch_size=12, verbose=0)\n",
    "\n",
    "Epoch: 125/14999 | Loss: 0.0008 | Episodes: 13 | Win count: 112 | Win rate: 0.889 | time: 361.0 seconds\n",
    "Reached 100% win rate at epoch: 125\n",
    "n_epoch: 125, max_mem: 512, data: 32, time: 361.8 seconds\n",
    "\n",
    "\n"
   ]
  }
 ],
 "metadata": {
  "kernelspec": {
   "display_name": "Python 3",
   "language": "python",
   "name": "python3"
  },
  "language_info": {
   "codemirror_mode": {
    "name": "ipython",
    "version": 3
   },
   "file_extension": ".py",
   "mimetype": "text/x-python",
   "name": "python",
   "nbconvert_exporter": "python",
   "pygments_lexer": "ipython3",
   "version": "3.7.4"
  }
 },
 "nbformat": 4,
 "nbformat_minor": 4
}
